{
 "cells": [
  {
   "cell_type": "markdown",
   "metadata": {},
   "source": [
    "# Project Euler - Problem 41"
   ]
  },
  {
   "cell_type": "code",
   "execution_count": 2,
   "metadata": {},
   "outputs": [
    {
     "name": "stdout",
     "output_type": "stream",
     "text": [
      "7652413\n"
     ]
    }
   ],
   "source": [
    "from itertools import permutations\n",
    "\n",
    "perms = [''.join(p) for p in permutations('123456789')]\n",
    "perms += [''.join(p) for p in permutations('12345678')]\n",
    "perms += [''.join(p) for p in permutations('1234567')]\n",
    "perms += [''.join(p) for p in permutations('123456')]\n",
    "perms += [''.join(p) for p in permutations('12345')]\n",
    "perms += [''.join(p) for p in permutations('1234')]\n",
    "perms += [''.join(p) for p in permutations('123')]\n",
    "\n",
    "ints = sorted([int(perm) for perm in perms], reverse=True)\n",
    "#ints\n",
    "\n",
    "def is_prime(a):\n",
    "    return all(a % i for i in range(2, a))\n",
    "\n",
    "i = 0\n",
    "while i < len(ints):\n",
    "    if is_prime(ints[i]):\n",
    "        print(ints[i])\n",
    "        break\n",
    "    i += 1"
   ]
  }
 ],
 "metadata": {
  "kernelspec": {
   "display_name": "Python 3",
   "language": "python",
   "name": "python3"
  },
  "language_info": {
   "codemirror_mode": {
    "name": "ipython",
    "version": 3
   },
   "file_extension": ".py",
   "mimetype": "text/x-python",
   "name": "python",
   "nbconvert_exporter": "python",
   "pygments_lexer": "ipython3",
   "version": "3.6.0"
  }
 },
 "nbformat": 4,
 "nbformat_minor": 2
}
